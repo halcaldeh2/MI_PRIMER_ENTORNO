{
 "cells": [
  {
   "cell_type": "code",
   "execution_count": 1,
   "id": "0c32f5d1",
   "metadata": {},
   "outputs": [],
   "source": [
    "# Mi primer Notebook"
   ]
  },
  {
   "cell_type": "code",
   "execution_count": 2,
   "id": "91cbca09",
   "metadata": {},
   "outputs": [
    {
     "name": "stdout",
     "output_type": "stream",
     "text": [
      "Hello world\n"
     ]
    }
   ],
   "source": [
    "print(\"Hello world\")"
   ]
  },
  {
   "cell_type": "markdown",
   "id": "80a13bc6",
   "metadata": {},
   "source": [
    "# Mi primer Notebook\n"
   ]
  },
  {
   "cell_type": "code",
   "execution_count": 3,
   "id": "797b4844",
   "metadata": {},
   "outputs": [
    {
     "name": "stdout",
     "output_type": "stream",
     "text": [
      "Hector Alcalde\n"
     ]
    }
   ],
   "source": [
    "print (\"Hector Alcalde\")"
   ]
  },
  {
   "cell_type": "code",
   "execution_count": null,
   "id": "d4778380",
   "metadata": {},
   "outputs": [],
   "source": []
  }
 ],
 "metadata": {
  "kernelspec": {
   "display_name": "Python 3 (ipykernel)",
   "language": "python",
   "name": "python3"
  },
  "language_info": {
   "codemirror_mode": {
    "name": "ipython",
    "version": 3
   },
   "file_extension": ".py",
   "mimetype": "text/x-python",
   "name": "python",
   "nbconvert_exporter": "python",
   "pygments_lexer": "ipython3",
   "version": "3.9.0"
  }
 },
 "nbformat": 4,
 "nbformat_minor": 5
}
